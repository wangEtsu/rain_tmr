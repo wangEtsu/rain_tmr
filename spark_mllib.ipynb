{
  "cells": [
    {
      "cell_type": "markdown",
      "source": [
        "# Assignment 2 : Rain in Australia "
      ],
      "metadata": {}
    },
    {
      "cell_type": "markdown",
      "source": [
        "## A. Creating Spark Session and Loading the Data"
      ],
      "metadata": {}
    },
    {
      "cell_type": "markdown",
      "source": [
        "### Step 01: Import Spark Session and initialize Spark\n",
        "pyspark is the Spark Python API that exposes the Spark programming model to Python. You are already familiar with sparkContext from Assignment 1. sparkContext was used as a channel to access all spark functionality. In order to use APIs of SQL, HIVE, and Streaming, separate contexts need to be created. From SPARK 2.0.0 onwards sparkSession provides a single point of entry to interact with underlying Spark functionality and allows programming Spark with Dataframe and Dataset APIs. All the functionality available with sparkContext are also available in sparkSession.\n",
        "\n",
        "Write the code to create a sparkSession object, with 4 local cores. To create a sparkSession with 4 core you have to use configure it as local[4]. Give a name to your program using appName ()."
      ],
      "metadata": {}
    },
    {
      "cell_type": "code",
      "source": [
        "# Create entry points to spark\n",
        "from pyspark import SparkContext # Spark\n",
        "from pyspark.sql import SparkSession # Spark SQL\n",
        "\n",
        "# We add this line to avoid an error : \"Cannot run multiple SparkContexts at once\". \n",
        "# If there is an existing spark context, we will reuse it instead of creating a new context.\n",
        "sc = SparkContext.getOrCreate()\n",
        "\n",
        "# local[*]: run Spark locally with as many working processors as logical cores on your machine.\n",
        "# In the field of `master`, we use a local server with as many working processors (or threads) as possible (i.e. `local[*]`). \n",
        "# If we want Spark to run locally with 'k' worker threads, we can specify as `local[k]`.\n",
        "# The `appName` field is a name to be shown on the Sparking cluster UI. \n",
        "\n",
        "# If there is no existing spark context, we now create a new context\n",
        "if (sc is None):\n",
        "    sc = SparkContext(master=\"local[4]\").appName(\"Rain Prediction\")\n",
        "spark = SparkSession(sparkContext=sc)"
      ],
      "outputs": [],
      "execution_count": 1,
      "metadata": {}
    },
    {
      "cell_type": "markdown",
      "source": [
        "### Step 02: Load the dataset and print the schema and total number of entries\n",
        "In sparkSession you can use spark_session.read.csv() method to load data as CSV\n",
        "format. You can download the dataset from Moodle. After you load the csv file into a\n",
        "dataframe using spark session, write the code to print the total number of entries in the dataset."
      ],
      "metadata": {}
    },
    {
      "cell_type": "markdown",
      "source": [
        "### Read dataset"
      ],
      "metadata": {}
    },
    {
      "cell_type": "code",
      "source": [
        "# Read the data from csv file\n",
        "weather = spark.read.option('header', 'true').csv('weatherAUS.csv', inferSchema=True)"
      ],
      "outputs": [],
      "execution_count": 2,
      "metadata": {}
    },
    {
      "cell_type": "markdown",
      "source": [
        "### Print Schema"
      ],
      "metadata": {}
    },
    {
      "cell_type": "code",
      "source": [
        "# show schema\n",
        "weather.printSchema()"
      ],
      "outputs": [
        {
          "output_type": "stream",
          "name": "stdout",
          "text": [
            "root\n",
            " |-- Date: timestamp (nullable = true)\n",
            " |-- Location: string (nullable = true)\n",
            " |-- MinTemp: string (nullable = true)\n",
            " |-- MaxTemp: string (nullable = true)\n",
            " |-- Rainfall: string (nullable = true)\n",
            " |-- Evaporation: string (nullable = true)\n",
            " |-- Sunshine: string (nullable = true)\n",
            " |-- WindGustDir: string (nullable = true)\n",
            " |-- WindGustSpeed: string (nullable = true)\n",
            " |-- WindDir9am: string (nullable = true)\n",
            " |-- WindDir3pm: string (nullable = true)\n",
            " |-- WindSpeed9am: string (nullable = true)\n",
            " |-- WindSpeed3pm: string (nullable = true)\n",
            " |-- Humidity9am: string (nullable = true)\n",
            " |-- Humidity3pm: string (nullable = true)\n",
            " |-- Pressure9am: string (nullable = true)\n",
            " |-- Pressure3pm: string (nullable = true)\n",
            " |-- Cloud9am: string (nullable = true)\n",
            " |-- Cloud3pm: string (nullable = true)\n",
            " |-- Temp9am: string (nullable = true)\n",
            " |-- Temp3pm: string (nullable = true)\n",
            " |-- RainToday: string (nullable = true)\n",
            " |-- RainTomorrow: string (nullable = true)\n",
            "\n"
          ]
        }
      ],
      "execution_count": 3,
      "metadata": {}
    },
    {
      "cell_type": "markdown",
      "source": [
        "### Count number of rows and show the result"
      ],
      "metadata": {}
    },
    {
      "cell_type": "code",
      "source": [
        "# Count the number of entries\n",
        "record_count = weather.count()"
      ],
      "outputs": [],
      "execution_count": 4,
      "metadata": {}
    },
    {
      "cell_type": "code",
      "source": [
        "# Print the result\n",
        "print('There are ',record_count, ' records in the dataset')"
      ],
      "outputs": [
        {
          "output_type": "stream",
          "name": "stdout",
          "text": [
            "There are  142193  records in the dataset\n"
          ]
        }
      ],
      "execution_count": 5,
      "metadata": {}
    },
    {
      "cell_type": "markdown",
      "source": [
        "## B. Data Cleaning and Processing\n",
        "Data cleaning and processing is an important aspect for any machine learning task. We have to carefully look into the data and based on the types, quality of the data, we have to plan our cleaning procedures."
      ],
      "metadata": {}
    },
    {
      "cell_type": "markdown",
      "source": [
        "### Step 03: Delete columns from the dataset\n",
        "During the data cleaning and processing phase, we delete unnecessary data from\n",
        "the dataset to improve the efficiency and accuracy of our model. You have to think\n",
        "which columns are not contributing to the rain prediction. To keep things simple, you are required to delete the following columns due to data quality and accuracy.\n",
        "- Date\n",
        "- Location\n",
        "- Evaporation\n",
        "- Sunshine\n",
        "- Cloud9am\n",
        "- Cloud3pm\n",
        "- Temp9am\n",
        "- Temp3pm\n",
        "\n",
        "However, if you want to keep any of these columns, you can keep them if you process\n",
        "them in an intelligent way that improve the accuracy, that is fine, however not\n",
        "mandatory ."
      ],
      "metadata": {}
    },
    {
      "cell_type": "markdown",
      "source": [
        "### Drop useless columns and show the result"
      ],
      "metadata": {}
    },
    {
      "cell_type": "code",
      "source": [
        "# Drop unneeded columns\n",
        "new_weather = weather.drop('Date', 'Location', 'Evaporation', 'Sunshine', 'Cloud9am', 'Cloud3pm', 'Temp9am', 'Temp3pm')"
      ],
      "outputs": [],
      "execution_count": 6,
      "metadata": {}
    },
    {
      "cell_type": "code",
      "source": [
        "# Show three rows of the cleaned dataframe\n",
        "new_weather.show(3)"
      ],
      "outputs": [
        {
          "output_type": "stream",
          "name": "stdout",
          "text": [
            "+-------+-------+--------+-----------+-------------+----------+----------+------------+------------+-----------+-----------+-----------+-----------+---------+------------+\n",
            "|MinTemp|MaxTemp|Rainfall|WindGustDir|WindGustSpeed|WindDir9am|WindDir3pm|WindSpeed9am|WindSpeed3pm|Humidity9am|Humidity3pm|Pressure9am|Pressure3pm|RainToday|RainTomorrow|\n",
            "+-------+-------+--------+-----------+-------------+----------+----------+------------+------------+-----------+-----------+-----------+-----------+---------+------------+\n",
            "|   13.4|   22.9|     0.6|          W|           44|         W|       WNW|          20|          24|         71|         22|     1007.7|     1007.1|       No|          No|\n",
            "|    7.4|   25.1|       0|        WNW|           44|       NNW|       WSW|           4|          22|         44|         25|     1010.6|     1007.8|       No|          No|\n",
            "|   12.9|   25.7|       0|        WSW|           46|         W|       WSW|          19|          26|         38|         30|     1007.6|     1008.7|       No|          No|\n",
            "+-------+-------+--------+-----------+-------------+----------+----------+------------+------------+-----------+-----------+-----------+-----------+---------+------------+\n",
            "only showing top 3 rows\n",
            "\n"
          ]
        }
      ],
      "execution_count": 7,
      "metadata": {}
    },
    {
      "cell_type": "markdown",
      "source": [
        "### Step 04: Print the number of missing data in each column.\n",
        "We already have an initial idea about the data structure from the schema. Even in\n",
        "plain eyes, we can observe that there are lots of NA (null) values in the given dataset.\n",
        "Your job in this step is to print the number of NA(null) values in each column."
      ],
      "metadata": {}
    },
    {
      "cell_type": "code",
      "source": [
        "# Set up a list of remaining columns \n",
        "columns = ['MinTemp', 'MaxTemp', 'Rainfall', 'WindGustDir', 'WindGustSpeed', 'WindDir9am', 'WindDir3pm', 'WindSpeed9am', 'WindSpeed3pm', 'Humidity9am', 'Humidity3pm', 'Pressure9am', 'Pressure3pm', 'RainToday', 'RainTomorrow']\n",
        "# Loop through these columns and find value as 'NA'\n",
        "for column in columns:\n",
        "    null_count = new_weather.filter(new_weather[column] == 'NA').count()\n",
        "    print('There are ', null_count, ' missing values in ', column)"
      ],
      "outputs": [
        {
          "output_type": "stream",
          "name": "stdout",
          "text": [
            "There are  637  missing values in  MinTemp\n",
            "There are  322  missing values in  MaxTemp\n",
            "There are  1406  missing values in  Rainfall\n",
            "There are  9330  missing values in  WindGustDir\n",
            "There are  9270  missing values in  WindGustSpeed\n",
            "There are  10013  missing values in  WindDir9am\n",
            "There are  3778  missing values in  WindDir3pm\n",
            "There are  1348  missing values in  WindSpeed9am\n",
            "There are  2630  missing values in  WindSpeed3pm\n",
            "There are  1774  missing values in  Humidity9am\n",
            "There are  3610  missing values in  Humidity3pm\n",
            "There are  14014  missing values in  Pressure9am\n",
            "There are  13981  missing values in  Pressure3pm\n",
            "There are  1406  missing values in  RainToday\n",
            "There are  0  missing values in  RainTomorrow\n"
          ]
        }
      ],
      "execution_count": 8,
      "metadata": {}
    },
    {
      "cell_type": "markdown",
      "source": [
        "### Step 05: Fill the missing data with average value and maximum occurrence value.\n",
        "In this step you have to fill in all the missing data with average value (for numeric\n",
        "column) or maximum frequency value (for non-numeric column).\n",
        "Firstly, identify the columns which have numeric values (e.g., MinTemp, MaxTemp),\n",
        "calculate the average and fill the null value with the average.\n",
        "Secondly, identify the columns with non-numeric values (e.g., WindGustDir, WindDir9am)\n",
        "and find the for frequent item (e.g., wind direction). Now fill the null values with that item\n",
        "for that particular column."
      ],
      "metadata": {}
    },
    {
      "cell_type": "markdown",
      "source": [
        "### Examine the original data type"
      ],
      "metadata": {}
    },
    {
      "cell_type": "code",
      "source": [
        "# Check data types of each column\n",
        "new_weather.dtypes"
      ],
      "outputs": [
        {
          "output_type": "execute_result",
          "execution_count": 9,
          "data": {
            "text/plain": [
              "[('MinTemp', 'string'),\n",
              " ('MaxTemp', 'string'),\n",
              " ('Rainfall', 'string'),\n",
              " ('WindGustDir', 'string'),\n",
              " ('WindGustSpeed', 'string'),\n",
              " ('WindDir9am', 'string'),\n",
              " ('WindDir3pm', 'string'),\n",
              " ('WindSpeed9am', 'string'),\n",
              " ('WindSpeed3pm', 'string'),\n",
              " ('Humidity9am', 'string'),\n",
              " ('Humidity3pm', 'string'),\n",
              " ('Pressure9am', 'string'),\n",
              " ('Pressure3pm', 'string'),\n",
              " ('RainToday', 'string'),\n",
              " ('RainTomorrow', 'string')]"
            ]
          },
          "metadata": {}
        }
      ],
      "execution_count": 9,
      "metadata": {}
    },
    {
      "cell_type": "markdown",
      "source": [
        "### Set up lists to store numeric and non-numeric columns"
      ],
      "metadata": {}
    },
    {
      "cell_type": "code",
      "source": [
        "# Import DoubleType\n",
        "from pyspark.sql.types import DoubleType\n",
        "# Set list for numeric columns\n",
        "numeric_columns = ['MinTemp', 'MaxTemp', 'Rainfall', 'WindGustSpeed', 'WindSpeed9am', 'WindSpeed3pm',\n",
        "                   'Humidity9am', 'Humidity3pm', 'Pressure9am', 'Pressure3pm']\n",
        "# Set list for string columns\n",
        "string_columns = ['WindGustDir', 'WindDir9am', 'WindDir3pm', 'RainToday', 'RainTomorrow']"
      ],
      "outputs": [],
      "execution_count": 10,
      "metadata": {}
    },
    {
      "cell_type": "markdown",
      "source": [
        "### Get average and most frequent values"
      ],
      "metadata": {}
    },
    {
      "cell_type": "code",
      "source": [
        "# Set dict to collect the result\n",
        "averages = {}\n",
        "# Loop through all numeric columns and get the average\n",
        "for column in numeric_columns:\n",
        "    # Filter off row with missing value\n",
        "    filtered_df = new_weather.filter(new_weather[column] != 'NA')\n",
        "    # Change data type to DoubleType\n",
        "    changedTypedf = filtered_df.withColumn(column, filtered_df[column].cast(DoubleType()))\n",
        "    # Get the average of each column\n",
        "    avg = changedTypedf.agg({column: \"avg\"}).collect()[0][0]\n",
        "    # Store in dict \n",
        "    averages.update({column:avg})\n",
        "# show the result\n",
        "print(\"The average values in each numeric column are:\")\n",
        "print(averages)"
      ],
      "outputs": [
        {
          "output_type": "stream",
          "name": "stdout",
          "text": [
            "The average values in each numeric column are:\n",
            "{'MinTemp': 12.186399728729311, 'MaxTemp': 23.2267841912725, 'Rainfall': 2.3499740743107442, 'WindGustSpeed': 39.98429165757619, 'WindSpeed9am': 14.001988000994, 'WindSpeed3pm': 18.63757586179718, 'Humidity9am': 68.8438103105705, 'Humidity3pm': 51.482606091656265, 'Pressure9am': 1017.6537584159615, 'Pressure3pm': 1015.2582035378894}\n"
          ]
        }
      ],
      "execution_count": 11,
      "metadata": {}
    },
    {
      "cell_type": "code",
      "source": [
        "from pyspark.sql.functions import desc\n",
        "# Set dict to collect the result\n",
        "frequents = {}\n",
        "# Loop through each string type column and get the most frequent value\n",
        "for column in string_columns:\n",
        "    # Get most frequent value by sorting the count\n",
        "    most_frequent_item = new_weather.groupby(column).count().sort(desc('count')).take(1)[0][0]\n",
        "    # Store in dict   \n",
        "    frequents.update({column: most_frequent_item})\n",
        "# show the result\n",
        "print(\"The most frequent values in string columns are:\")\n",
        "print(frequents)"
      ],
      "outputs": [
        {
          "output_type": "stream",
          "name": "stdout",
          "text": [
            "The most frequent values in string columns are:\n",
            "{'WindGustDir': 'W', 'WindDir9am': 'N', 'WindDir3pm': 'SE', 'RainToday': 'No', 'RainTomorrow': 'No'}\n"
          ]
        }
      ],
      "execution_count": 12,
      "metadata": {}
    },
    {
      "cell_type": "markdown",
      "source": [
        "### Fill in these values and examine the result"
      ],
      "metadata": {}
    },
    {
      "cell_type": "code",
      "source": [
        "# Import functions module\n",
        "from pyspark.sql.functions import *\n",
        "# Give a new df as result\n",
        "weather_cleaned = new_weather\n",
        "# Loop through each numeric column and fill in missing value\n",
        "for column in numeric_columns:\n",
        "    weather_cleaned = weather_cleaned.withColumn(column, when(weather_cleaned[column] == 'NA', averages.get(column)).otherwise(weather_cleaned[column]))\n",
        "# Loop through each string column and fill in missing value\n",
        "for column in string_columns:\n",
        "    weather_cleaned = weather_cleaned.withColumn(column, when(weather_cleaned[column] == 'NA', frequents.get(column)).otherwise(weather_cleaned[column]))\n",
        "# Examine the result\n",
        "for column in columns:\n",
        "    null_count = weather_cleaned.filter(weather_cleaned[column] == 'NA').count()\n",
        "    print('There are ', null_count, ' missing values in ', column)"
      ],
      "outputs": [
        {
          "output_type": "stream",
          "name": "stdout",
          "text": [
            "There are  0  missing values in  MinTemp\n",
            "There are  0  missing values in  MaxTemp\n",
            "There are  0  missing values in  Rainfall\n",
            "There are  0  missing values in  WindGustDir\n",
            "There are  0  missing values in  WindGustSpeed\n",
            "There are  0  missing values in  WindDir9am\n",
            "There are  0  missing values in  WindDir3pm\n",
            "There are  0  missing values in  WindSpeed9am\n",
            "There are  0  missing values in  WindSpeed3pm\n",
            "There are  0  missing values in  Humidity9am\n",
            "There are  0  missing values in  Humidity3pm\n",
            "There are  0  missing values in  Pressure9am\n",
            "There are  0  missing values in  Pressure3pm\n",
            "There are  0  missing values in  RainToday\n",
            "There are  0  missing values in  RainTomorrow\n"
          ]
        }
      ],
      "execution_count": 13,
      "metadata": {}
    },
    {
      "cell_type": "markdown",
      "source": [
        "### All the missing values have been filled in"
      ],
      "metadata": {}
    },
    {
      "cell_type": "markdown",
      "source": [
        "### Step 06: Data transformation\n",
        "In this step, you have to transform the data so that it will be useful to process by\n",
        "the machine learning algorithm. Before transforming your non-numerical data, do the\n",
        "type casting (to double) of the numerical value columns as they are defined as “String”\n",
        "(see, the schema of the dataset). For the non-numerical value column (i.e., WindGustDir,\n",
        "WindDir9am, WindDir3pm, RainTomorrow) use the StringIndexer method to convert\n",
        "them into numbers."
      ],
      "metadata": {}
    },
    {
      "cell_type": "markdown",
      "source": [
        "### Change numeric column to DoubleType"
      ],
      "metadata": {}
    },
    {
      "cell_type": "code",
      "source": [
        "# Import Piepeline and StringIndexer moduels\n",
        "from pyspark.ml import Pipeline\n",
        "from pyspark.ml.feature import StringIndexer\n",
        "# Loop through all numeric columns and cast they type to double\n",
        "for column in numeric_columns:\n",
        "    weather_cleaned = weather_cleaned.withColumn(column, weather_cleaned[column].cast(DoubleType()))\n",
        "# Check result\n",
        "weather_cleaned.dtypes"
      ],
      "outputs": [
        {
          "output_type": "execute_result",
          "execution_count": 14,
          "data": {
            "text/plain": [
              "[('MinTemp', 'double'),\n",
              " ('MaxTemp', 'double'),\n",
              " ('Rainfall', 'double'),\n",
              " ('WindGustDir', 'string'),\n",
              " ('WindGustSpeed', 'double'),\n",
              " ('WindDir9am', 'string'),\n",
              " ('WindDir3pm', 'string'),\n",
              " ('WindSpeed9am', 'double'),\n",
              " ('WindSpeed3pm', 'double'),\n",
              " ('Humidity9am', 'double'),\n",
              " ('Humidity3pm', 'double'),\n",
              " ('Pressure9am', 'double'),\n",
              " ('Pressure3pm', 'double'),\n",
              " ('RainToday', 'string'),\n",
              " ('RainTomorrow', 'string')]"
            ]
          },
          "metadata": {}
        }
      ],
      "execution_count": 14,
      "metadata": {}
    },
    {
      "cell_type": "markdown",
      "source": [
        "### Apply StringIndexer to categorical column"
      ],
      "metadata": {}
    },
    {
      "cell_type": "code",
      "source": [
        "# Indexing each string column\n",
        "indexers = [StringIndexer(inputCol = column, outputCol = column + '_index') for column in string_columns]\n",
        "# Set indexers into pipeline\n",
        "indexers_pipeline = Pipeline(stages = indexers)\n",
        "# Use pipeline to fit the dataset\n",
        "pipeline_fit = indexers_pipeline.fit(weather_cleaned)\n",
        "# Transform the dataset\n",
        "weather_indexed = pipeline_fit.transform(weather_cleaned)\n",
        "# Show the result\n",
        "weather_indexed.show(5)"
      ],
      "outputs": [
        {
          "output_type": "stream",
          "name": "stdout",
          "text": [
            "+-------+-------+--------+-----------+-------------+----------+----------+------------+------------+-----------+-----------+-----------+-----------+---------+------------+-----------------+----------------+----------------+---------------+------------------+\n",
            "|MinTemp|MaxTemp|Rainfall|WindGustDir|WindGustSpeed|WindDir9am|WindDir3pm|WindSpeed9am|WindSpeed3pm|Humidity9am|Humidity3pm|Pressure9am|Pressure3pm|RainToday|RainTomorrow|WindGustDir_index|WindDir9am_index|WindDir3pm_index|RainToday_index|RainTomorrow_index|\n",
            "+-------+-------+--------+-----------+-------------+----------+----------+------------+------------+-----------+-----------+-----------+-----------+---------+------------+-----------------+----------------+----------------+---------------+------------------+\n",
            "|   13.4|   22.9|     0.6|          W|         44.0|         W|       WNW|        20.0|        24.0|       71.0|       22.0|     1007.7|     1007.1|       No|          No|              0.0|             6.0|             7.0|            0.0|               0.0|\n",
            "|    7.4|   25.1|     0.0|        WNW|         44.0|       NNW|       WSW|         4.0|        22.0|       44.0|       25.0|     1010.6|     1007.8|       No|          No|              9.0|             9.0|             3.0|            0.0|               0.0|\n",
            "|   12.9|   25.7|     0.0|        WSW|         46.0|         W|       WSW|        19.0|        26.0|       38.0|       30.0|     1007.6|     1008.7|       No|          No|              6.0|             6.0|             3.0|            0.0|               0.0|\n",
            "|    9.2|   28.0|     0.0|         NE|         24.0|        SE|         E|        11.0|         9.0|       45.0|       16.0|     1017.6|     1012.8|       No|          No|             13.0|             1.0|            10.0|            0.0|               0.0|\n",
            "|   17.5|   32.3|     1.0|          W|         41.0|       ENE|        NW|         7.0|        20.0|       82.0|       33.0|     1010.8|     1006.0|       No|          No|              0.0|            10.0|             8.0|            0.0|               0.0|\n",
            "+-------+-------+--------+-----------+-------------+----------+----------+------------+------------+-----------+-----------+-----------+-----------+---------+------------+-----------------+----------------+----------------+---------------+------------------+\n",
            "only showing top 5 rows\n",
            "\n"
          ]
        }
      ],
      "execution_count": 15,
      "metadata": {}
    },
    {
      "cell_type": "markdown",
      "source": [
        "### Drop original columns after indexing"
      ],
      "metadata": {}
    },
    {
      "cell_type": "code",
      "source": [
        "# Drop the original column after indexing\n",
        "weather_indexed = weather_indexed.drop('WindGustDir', 'WindDir9am', 'WindDir3pm', 'RainToday')\n",
        "# Show the result\n",
        "weather_indexed.show(3)"
      ],
      "outputs": [
        {
          "output_type": "stream",
          "name": "stdout",
          "text": [
            "+-------+-------+--------+-------------+------------+------------+-----------+-----------+-----------+-----------+------------+-----------------+----------------+----------------+---------------+------------------+\n",
            "|MinTemp|MaxTemp|Rainfall|WindGustSpeed|WindSpeed9am|WindSpeed3pm|Humidity9am|Humidity3pm|Pressure9am|Pressure3pm|RainTomorrow|WindGustDir_index|WindDir9am_index|WindDir3pm_index|RainToday_index|RainTomorrow_index|\n",
            "+-------+-------+--------+-------------+------------+------------+-----------+-----------+-----------+-----------+------------+-----------------+----------------+----------------+---------------+------------------+\n",
            "|   13.4|   22.9|     0.6|         44.0|        20.0|        24.0|       71.0|       22.0|     1007.7|     1007.1|          No|              0.0|             6.0|             7.0|            0.0|               0.0|\n",
            "|    7.4|   25.1|     0.0|         44.0|         4.0|        22.0|       44.0|       25.0|     1010.6|     1007.8|          No|              9.0|             9.0|             3.0|            0.0|               0.0|\n",
            "|   12.9|   25.7|     0.0|         46.0|        19.0|        26.0|       38.0|       30.0|     1007.6|     1008.7|          No|              6.0|             6.0|             3.0|            0.0|               0.0|\n",
            "+-------+-------+--------+-------------+------------+------------+-----------+-----------+-----------+-----------+------------+-----------------+----------------+----------------+---------------+------------------+\n",
            "only showing top 3 rows\n",
            "\n"
          ]
        }
      ],
      "execution_count": 16,
      "metadata": {}
    },
    {
      "cell_type": "markdown",
      "source": [
        "### Step 07: Create the feature vector and divide the dataset\n",
        "In this step, you have to create the feature vector from the given columns. When\n",
        "you create you feature vector, remember to exclude the column that you will be using\n",
        "for testing the accuracy of your model.\n",
        "After creation of your feature vector, you have split your dataset into two (e.g., training\n",
        "and testing). In this assignment, you have to spit the dataset randomly and between 70\n",
        "percent and 30 percent."
      ],
      "metadata": {}
    },
    {
      "cell_type": "code",
      "source": [
        "# Set up categorized columns excluding label column, which is RainTomorrow_index\n",
        "cat_columns = ['WindGustDir', 'WindDir9am', 'WindDir3pm', 'RainToday']\n",
        "print(cat_columns)\n",
        "# Set up indexed feature columns\n",
        "indexed_columns = ['WindGustDir_index', 'WindDir9am_index', 'WindDir3pm_index', 'RainToday_index']\n",
        "print(indexed_columns)\n",
        "# Set up indexed feature columns that are about to be encoded\n",
        "encoded_columns = ['WindGustDir_classVec', 'WindDir9am_classVec', 'WindDir3pm_classVec', 'RainToday_classVec']\n",
        "print(encoded_columns)"
      ],
      "outputs": [
        {
          "output_type": "stream",
          "name": "stdout",
          "text": [
            "['WindGustDir', 'WindDir9am', 'WindDir3pm', 'RainToday']\n",
            "['WindGustDir_index', 'WindDir9am_index', 'WindDir3pm_index', 'RainToday_index']\n",
            "['WindGustDir_classVec', 'WindDir9am_classVec', 'WindDir3pm_classVec', 'RainToday_classVec']\n"
          ]
        }
      ],
      "execution_count": 17,
      "metadata": {}
    },
    {
      "cell_type": "markdown",
      "source": [
        "### Apply OneHotEncoderEstimator and VectorAssembler to indexed columns"
      ],
      "metadata": {}
    },
    {
      "cell_type": "code",
      "source": [
        "from pyspark.ml.feature import OneHotEncoderEstimator, VectorAssembler\n",
        "# Set up empty list for pipeline stage\n",
        "stages = []\n",
        "# Loop through categorized feature columns and declare encoder for each of them\n",
        "for column in cat_columns:\n",
        "    encoder = OneHotEncoderEstimator(inputCols = [column + '_index'], outputCols = [column + '_classVec'])\n",
        "    # When printing steps, a binary vector is added to the end of each line.\n",
        "    stages += [encoder]\n",
        "# Set up assemble Inputs\n",
        "assemblerInputs = encoded_columns + numeric_columns\n",
        "# Set up VectorAssebler and output feature column\n",
        "assembler = VectorAssembler(inputCols = assemblerInputs, outputCol=\"features\")\n",
        "# Add VectorAssembler to pipeline stage\n",
        "stages += [assembler]"
      ],
      "outputs": [],
      "execution_count": 18,
      "metadata": {}
    },
    {
      "cell_type": "markdown",
      "source": [
        "### Execute pipeline and show the result"
      ],
      "metadata": {}
    },
    {
      "cell_type": "code",
      "source": [
        "# Build up pipeline \n",
        "pipeline = Pipeline(stages = stages)\n",
        "# Fit the dataset\n",
        "pipelineModel = pipeline.fit(weather_indexed)\n",
        "# Transform the dataset\n",
        "weather_featurized = pipelineModel.transform(weather_indexed)"
      ],
      "outputs": [],
      "execution_count": 19,
      "metadata": {}
    },
    {
      "cell_type": "code",
      "source": [
        "# The thre first three row of result dataframe\n",
        "weather_featurized.show(3, truncate = False)"
      ],
      "outputs": [
        {
          "output_type": "stream",
          "name": "stdout",
          "text": [
            "+-------+-------+--------+-------------+------------+------------+-----------+-----------+-----------+-----------+------------+-----------------+----------------+----------------+---------------+------------------+--------------------+-------------------+-------------------+------------------+----------------------------------------------------------------------------------------------------------------------+\n",
            "|MinTemp|MaxTemp|Rainfall|WindGustSpeed|WindSpeed9am|WindSpeed3pm|Humidity9am|Humidity3pm|Pressure9am|Pressure3pm|RainTomorrow|WindGustDir_index|WindDir9am_index|WindDir3pm_index|RainToday_index|RainTomorrow_index|WindGustDir_classVec|WindDir9am_classVec|WindDir3pm_classVec|RainToday_classVec|features                                                                                                              |\n",
            "+-------+-------+--------+-------------+------------+------------+-----------+-----------+-----------+-----------+------------+-----------------+----------------+----------------+---------------+------------------+--------------------+-------------------+-------------------+------------------+----------------------------------------------------------------------------------------------------------------------+\n",
            "|13.4   |22.9   |0.6     |44.0         |20.0        |24.0        |71.0       |22.0       |1007.7     |1007.1     |No          |0.0              |6.0             |7.0             |0.0            |0.0               |(15,[0],[1.0])      |(15,[6],[1.0])     |(15,[7],[1.0])     |(1,[0],[1.0])     |(56,[0,21,37,45,46,47,48,49,50,51,52,53,54,55],[1.0,1.0,1.0,1.0,13.4,22.9,0.6,44.0,20.0,24.0,71.0,22.0,1007.7,1007.1])|\n",
            "|7.4    |25.1   |0.0     |44.0         |4.0         |22.0        |44.0       |25.0       |1010.6     |1007.8     |No          |9.0              |9.0             |3.0             |0.0            |0.0               |(15,[9],[1.0])      |(15,[9],[1.0])     |(15,[3],[1.0])     |(1,[0],[1.0])     |(56,[9,24,33,45,46,47,49,50,51,52,53,54,55],[1.0,1.0,1.0,1.0,7.4,25.1,44.0,4.0,22.0,44.0,25.0,1010.6,1007.8])         |\n",
            "|12.9   |25.7   |0.0     |46.0         |19.0        |26.0        |38.0       |30.0       |1007.6     |1008.7     |No          |6.0              |6.0             |3.0             |0.0            |0.0               |(15,[6],[1.0])      |(15,[6],[1.0])     |(15,[3],[1.0])     |(1,[0],[1.0])     |(56,[6,21,33,45,46,47,49,50,51,52,53,54,55],[1.0,1.0,1.0,1.0,12.9,25.7,46.0,19.0,26.0,38.0,30.0,1007.6,1008.7])       |\n",
            "+-------+-------+--------+-------------+------------+------------+-----------+-----------+-----------+-----------+------------+-----------------+----------------+----------------+---------------+------------------+--------------------+-------------------+-------------------+------------------+----------------------------------------------------------------------------------------------------------------------+\n",
            "only showing top 3 rows\n",
            "\n"
          ]
        }
      ],
      "execution_count": 20,
      "metadata": {}
    },
    {
      "cell_type": "markdown",
      "source": [
        "### Split the dataset for training data and test data "
      ],
      "metadata": {}
    },
    {
      "cell_type": "code",
      "source": [
        "# Split data into train and test randomly\n",
        "(trainingData, testData) = weather_featurized.randomSplit([0.7, 0.3], seed = 100)"
      ],
      "outputs": [],
      "execution_count": 21,
      "metadata": {}
    },
    {
      "cell_type": "markdown",
      "source": [
        "## C. Apply Machine Learning Algorithms"
      ],
      "metadata": {}
    },
    {
      "cell_type": "markdown",
      "source": [
        "### Step 08: Apply machine learning classification algorithms on the dataset and compare their accuracy. Plot the accuracy as bar graph.\n",
        "You have to use DecisionTreeClassifier(), RandomForestClassifier(), and\n",
        "LogisticRegression(), GBTClassifier() methods in spark to calculate the probability of the\n",
        "rain fall tomorrow based on the other related data points (e.g., temperature, wind,\n",
        "humidity). Finally, you have to draw the graph (e.g. bar chart) to demonstrate the\n",
        "comparison of their accuracy."
      ],
      "metadata": {}
    },
    {
      "cell_type": "code",
      "source": [
        "# Import classifiers and evaluator\n",
        "from pyspark.ml.classification import DecisionTreeClassifier, RandomForestClassifier, LogisticRegression, GBTClassifier\n",
        "from pyspark.ml.evaluation import MulticlassClassificationEvaluator"
      ],
      "outputs": [],
      "execution_count": 24,
      "metadata": {}
    },
    {
      "cell_type": "markdown",
      "source": [
        "### DecisionTreeClassifier"
      ],
      "metadata": {}
    },
    {
      "cell_type": "code",
      "source": [
        "# Extracts the number of nodes in the decision tree and the tree depth in the model and stores it in dt.\n",
        "dt = DecisionTreeClassifier(featuresCol = 'features', labelCol = 'RainTomorrow_index', maxDepth = 3)\n",
        "dtModel = dt.fit(trainingData)\n",
        "#Use the  Transformer.transform() method to predict test data\n",
        "dt_predictions = dtModel.transform(testData)\n",
        "#Provisions and probabilities for each selected forecasting class\n",
        "dt_predictions.select('RainTomorrow_index', 'prediction', 'probability').show(10)"
      ],
      "outputs": [
        {
          "output_type": "stream",
          "name": "stdout",
          "text": [
            "+------------------+----------+--------------------+\n",
            "|RainTomorrow_index|prediction|         probability|\n",
            "+------------------+----------+--------------------+\n",
            "|               0.0|       0.0|[0.85388550021612...|\n",
            "|               0.0|       0.0|[0.85388550021612...|\n",
            "|               0.0|       0.0|[0.85388550021612...|\n",
            "|               0.0|       0.0|[0.85388550021612...|\n",
            "|               0.0|       0.0|[0.85388550021612...|\n",
            "|               0.0|       0.0|[0.85388550021612...|\n",
            "|               0.0|       0.0|[0.85388550021612...|\n",
            "|               0.0|       0.0|[0.85388550021612...|\n",
            "|               0.0|       0.0|[0.85388550021612...|\n",
            "|               0.0|       0.0|[0.85388550021612...|\n",
            "+------------------+----------+--------------------+\n",
            "only showing top 10 rows\n",
            "\n"
          ]
        }
      ],
      "execution_count": 25,
      "metadata": {}
    },
    {
      "cell_type": "code",
      "source": [
        "# Import BinaryEvaluator\n",
        "from pyspark.ml.evaluation import BinaryClassificationEvaluator\n",
        "# Evaluator the result\n",
        "evaluator = BinaryClassificationEvaluator(labelCol='RainTomorrow_index')\n",
        "# compute accuracy on the test set\n",
        "evaluator = MulticlassClassificationEvaluator(labelCol=\"RainTomorrow_index\", predictionCol=\"prediction\", metricName=\"accuracy\")\n",
        "dt_accuracy = evaluator.evaluate(dt_predictions)\n",
        "print(\"Test set accuracy = \", dt_accuracy)"
      ],
      "outputs": [
        {
          "output_type": "stream",
          "name": "stdout",
          "text": [
            "Test set accuracy =  0.8254540315172073\n"
          ]
        }
      ],
      "execution_count": 26,
      "metadata": {}
    },
    {
      "cell_type": "markdown",
      "source": [
        "### RandomForestClassifier"
      ],
      "metadata": {}
    },
    {
      "cell_type": "code",
      "source": [
        "# Extracts the number of nodes in the decision tree and the tree depth in the model and stores it in dt.\n",
        "dt = RandomForestClassifier(featuresCol = 'features', labelCol = 'RainTomorrow_index', numTrees=10)\n",
        "dtModel = dt.fit(trainingData)\n",
        "#Use the  Transformer.transform() method to predict test data\n",
        "rf_predictions = dtModel.transform(testData)\n",
        "#Provisions and probabilities for each selected forecasting class\n",
        "rf_predictions.select('RainTomorrow_index', 'prediction', 'probability').show(10)"
      ],
      "outputs": [
        {
          "output_type": "stream",
          "name": "stdout",
          "text": [
            "+------------------+----------+--------------------+\n",
            "|RainTomorrow_index|prediction|         probability|\n",
            "+------------------+----------+--------------------+\n",
            "|               0.0|       0.0|[0.87311795306310...|\n",
            "|               0.0|       0.0|[0.86589717463935...|\n",
            "|               0.0|       0.0|[0.85373484492747...|\n",
            "|               0.0|       0.0|[0.87311795306310...|\n",
            "|               0.0|       0.0|[0.78813108006740...|\n",
            "|               0.0|       0.0|[0.76532584156602...|\n",
            "|               0.0|       0.0|[0.85373484492747...|\n",
            "|               0.0|       0.0|[0.87311795306310...|\n",
            "|               0.0|       0.0|[0.86589717463935...|\n",
            "|               0.0|       0.0|[0.87191128468623...|\n",
            "+------------------+----------+--------------------+\n",
            "only showing top 10 rows\n",
            "\n"
          ]
        }
      ],
      "execution_count": 27,
      "metadata": {}
    },
    {
      "cell_type": "code",
      "source": [
        "# Evaluator the result\n",
        "evaluator = BinaryClassificationEvaluator(labelCol='RainTomorrow_index')\n",
        "# Print the accuracy\n",
        "evaluator = MulticlassClassificationEvaluator(labelCol=\"RainTomorrow_index\", predictionCol=\"prediction\", metricName=\"accuracy\")\n",
        "rf_accuracy = evaluator.evaluate(rf_predictions)\n",
        "print(\"Test set accuracy = \", rf_accuracy)"
      ],
      "outputs": [
        {
          "output_type": "stream",
          "name": "stdout",
          "text": [
            "Test set accuracy =  0.8230984853838362\n"
          ]
        }
      ],
      "execution_count": 28,
      "metadata": {}
    },
    {
      "cell_type": "markdown",
      "source": [
        "### LogisticRegression"
      ],
      "metadata": {}
    },
    {
      "cell_type": "code",
      "source": [
        "# Create an initial model using the train set.\n",
        "lr = LogisticRegression(featuresCol = 'features', labelCol = 'RainTomorrow_index',    maxIter=10)\n",
        "lrModel = lr.fit(trainingData)\n",
        "# LogicRegression.transform() is a method that uses only 'features'.\n",
        "lr_predictions = lrModel.transform(testData)\n",
        "#At this point, you can select a column for the schema to view the forecasts. I chose age and occupation here.\n",
        "lr_predictions.select('RainTomorrow_index', 'prediction', 'probability').show(10)"
      ],
      "outputs": [
        {
          "output_type": "stream",
          "name": "stdout",
          "text": [
            "+------------------+----------+--------------------+\n",
            "|RainTomorrow_index|prediction|         probability|\n",
            "+------------------+----------+--------------------+\n",
            "|               0.0|       0.0|[0.82741396332911...|\n",
            "|               0.0|       0.0|[0.90899268270353...|\n",
            "|               0.0|       0.0|[0.79913869980167...|\n",
            "|               0.0|       0.0|[0.88273621682966...|\n",
            "|               0.0|       0.0|[0.80252955664202...|\n",
            "|               0.0|       0.0|[0.80595469965592...|\n",
            "|               0.0|       0.0|[0.75566330624832...|\n",
            "|               0.0|       0.0|[0.84461134178325...|\n",
            "|               0.0|       0.0|[0.81484589208149...|\n",
            "|               0.0|       0.0|[0.88964164929716...|\n",
            "+------------------+----------+--------------------+\n",
            "only showing top 10 rows\n",
            "\n"
          ]
        }
      ],
      "execution_count": 29,
      "metadata": {}
    },
    {
      "cell_type": "code",
      "source": [
        "# Evaluator the result\n",
        "evaluator = BinaryClassificationEvaluator(labelCol='RainTomorrow_index')\n",
        "# Print the accuracy\n",
        "evaluator = MulticlassClassificationEvaluator(labelCol=\"RainTomorrow_index\", predictionCol=\"prediction\", metricName=\"accuracy\")\n",
        "lr_accuracy = evaluator.evaluate(lr_predictions)\n",
        "print(\"Test set accuracy = \", lr_accuracy)"
      ],
      "outputs": [
        {
          "output_type": "stream",
          "name": "stdout",
          "text": [
            "Test set accuracy =  0.8169740654370716\n"
          ]
        }
      ],
      "execution_count": 30,
      "metadata": {}
    },
    {
      "cell_type": "markdown",
      "source": [
        "### GBTClassifier"
      ],
      "metadata": {}
    },
    {
      "cell_type": "code",
      "source": [
        "# Create an initial model using the train set.\n",
        "lr = GBTClassifier(featuresCol = 'features', labelCol = 'RainTomorrow_index',    maxIter=10)\n",
        "lrModel = lr.fit(trainingData)\n",
        "# LogicRegression.transform() is a method that uses only 'features'.\n",
        "gbt_predictions = lrModel.transform(testData)\n",
        "#At this point, you can select a column for the schema to view the forecasts. I chose age and occupation here.\n",
        "gbt_predictions.select('RainTomorrow_index', 'prediction', 'probability').show(10)"
      ],
      "outputs": [
        {
          "output_type": "stream",
          "name": "stdout",
          "text": [
            "+------------------+----------+--------------------+\n",
            "|RainTomorrow_index|prediction|         probability|\n",
            "+------------------+----------+--------------------+\n",
            "|               0.0|       0.0|[0.90867470470561...|\n",
            "|               0.0|       0.0|[0.91608632593179...|\n",
            "|               0.0|       0.0|[0.91402201072387...|\n",
            "|               0.0|       0.0|[0.91311069935472...|\n",
            "|               0.0|       0.0|[0.85658368457807...|\n",
            "|               0.0|       0.0|[0.85848842918556...|\n",
            "|               0.0|       0.0|[0.91270909964013...|\n",
            "|               0.0|       0.0|[0.88983698693536...|\n",
            "|               0.0|       0.0|[0.88613009674869...|\n",
            "|               0.0|       0.0|[0.91692042614671...|\n",
            "+------------------+----------+--------------------+\n",
            "only showing top 10 rows\n",
            "\n"
          ]
        }
      ],
      "execution_count": 31,
      "metadata": {}
    },
    {
      "cell_type": "code",
      "source": [
        "# Evaluator the result\n",
        "evaluator = BinaryClassificationEvaluator(labelCol='RainTomorrow_index')\n",
        "# Print the accuracy\n",
        "evaluator = MulticlassClassificationEvaluator(labelCol=\"RainTomorrow_index\", predictionCol=\"prediction\", metricName=\"accuracy\")\n",
        "gbt_accuracy = evaluator.evaluate(gbt_predictions)\n",
        "print(\"Test set accuracy = \", gbt_accuracy)"
      ],
      "outputs": [
        {
          "output_type": "stream",
          "name": "stdout",
          "text": [
            "Test set accuracy =  0.8408828586907875\n"
          ]
        }
      ],
      "execution_count": 32,
      "metadata": {}
    },
    {
      "cell_type": "markdown",
      "source": [
        "### Comparison Barchart"
      ],
      "metadata": {}
    },
    {
      "cell_type": "code",
      "source": [
        "%matplotlib notebook\n",
        "import matplotlib.pyplot as plt\n",
        "x_axis = ['Decision Tree', 'Random Forest', 'Logistic Regression', 'GBT']\n",
        "y_axis = [dt_accuracy, rf_accuracy, lr_accuracy, gbt_accuracy]\n",
        "plt.bar(x_axis, y_axis)\n",
        "plt.xticks(rotation = 90)\n",
        "plt.xlabel('Model')\n",
        "plt.ylabel('Accuracy')\n",
        "plt.title('Comparison of accuracy over different model')\n",
        "plt.tight_layout()"
      ],
      "outputs": [
        {
          "output_type": "display_data",
          "data": {
            "application/javascript": [
              "/* Put everything inside the global mpl namespace */\n",
              "window.mpl = {};\n",
              "\n",
              "\n",
              "mpl.get_websocket_type = function() {\n",
              "    if (typeof(WebSocket) !== 'undefined') {\n",
              "        return WebSocket;\n",
              "    } else if (typeof(MozWebSocket) !== 'undefined') {\n",
              "        return MozWebSocket;\n",
              "    } else {\n",
              "        alert('Your browser does not have WebSocket support. ' +\n",
              "              'Please try Chrome, Safari or Firefox ≥ 6. ' +\n",
              "              'Firefox 4 and 5 are also supported but you ' +\n",
              "              'have to enable WebSockets in about:config.');\n",
              "    };\n",
              "}\n",
              "\n",
              "mpl.figure = function(figure_id, websocket, ondownload, parent_element) {\n",
              "    this.id = figure_id;\n",
              "\n",
              "    this.ws = websocket;\n",
              "\n",
              "    this.supports_binary = (this.ws.binaryType != undefined);\n",
              "\n",
              "    if (!this.supports_binary) {\n",
              "        var warnings = document.getElementById(\"mpl-warnings\");\n",
              "        if (warnings) {\n",
              "            warnings.style.display = 'block';\n",
              "            warnings.textContent = (\n",
              "                \"This browser does not support binary websocket messages. \" +\n",
              "                    \"Performance may be slow.\");\n",
              "        }\n",
              "    }\n",
              "\n",
              "    this.imageObj = new Image();\n",
              "\n",
              "    this.context = undefined;\n",
              "    this.message = undefined;\n",
              "    this.canvas = undefined;\n",
              "    this.rubberband_canvas = undefined;\n",
              "    this.rubberband_context = undefined;\n",
              "    this.format_dropdown = undefined;\n",
              "\n",
              "    this.image_mode = 'full';\n",
              "\n",
              "    this.root = $('<div/>');\n",
              "    this._root_extra_style(this.root)\n",
              "    this.root.attr('style', 'display: inline-block');\n",
              "\n",
              "    $(parent_element).append(this.root);\n",
              "\n",
              "    this._init_header(this);\n",
              "    this._init_canvas(this);\n",
              "    this._init_toolbar(this);\n",
              "\n",
              "    var fig = this;\n",
              "\n",
              "    this.waiting = false;\n",
              "\n",
              "    this.ws.onopen =  function () {\n",
              "            fig.send_message(\"supports_binary\", {value: fig.supports_binary});\n",
              "            fig.send_message(\"send_image_mode\", {});\n",
              "            if (mpl.ratio != 1) {\n",
              "                fig.send_message(\"set_dpi_ratio\", {'dpi_ratio': mpl.ratio});\n",
              "            }\n",
              "            fig.send_message(\"refresh\", {});\n",
              "        }\n",
              "\n",
              "    this.imageObj.onload = function() {\n",
              "            if (fig.image_mode == 'full') {\n",
              "                // Full images could contain transparency (where diff images\n",
              "                // almost always do), so we need to clear the canvas so that\n",
              "                // there is no ghosting.\n",
              "                fig.context.clearRect(0, 0, fig.canvas.width, fig.canvas.height);\n",
              "            }\n",
              "            fig.context.drawImage(fig.imageObj, 0, 0);\n",
              "        };\n",
              "\n",
              "    this.imageObj.onunload = function() {\n",
              "        fig.ws.close();\n",
              "    }\n",
              "\n",
              "    this.ws.onmessage = this._make_on_message_function(this);\n",
              "\n",
              "    this.ondownload = ondownload;\n",
              "}\n",
              "\n",
              "mpl.figure.prototype._init_header = function() {\n",
              "    var titlebar = $(\n",
              "        '<div class=\"ui-dialog-titlebar ui-widget-header ui-corner-all ' +\n",
              "        'ui-helper-clearfix\"/>');\n",
              "    var titletext = $(\n",
              "        '<div class=\"ui-dialog-title\" style=\"width: 100%; ' +\n",
              "        'text-align: center; padding: 3px;\"/>');\n",
              "    titlebar.append(titletext)\n",
              "    this.root.append(titlebar);\n",
              "    this.header = titletext[0];\n",
              "}\n",
              "\n",
              "\n",
              "\n",
              "mpl.figure.prototype._canvas_extra_style = function(canvas_div) {\n",
              "\n",
              "}\n",
              "\n",
              "\n",
              "mpl.figure.prototype._root_extra_style = function(canvas_div) {\n",
              "\n",
              "}\n",
              "\n",
              "mpl.figure.prototype._init_canvas = function() {\n",
              "    var fig = this;\n",
              "\n",
              "    var canvas_div = $('<div/>');\n",
              "\n",
              "    canvas_div.attr('style', 'position: relative; clear: both; outline: 0');\n",
              "\n",
              "    function canvas_keyboard_event(event) {\n",
              "        return fig.key_event(event, event['data']);\n",
              "    }\n",
              "\n",
              "    canvas_div.keydown('key_press', canvas_keyboard_event);\n",
              "    canvas_div.keyup('key_release', canvas_keyboard_event);\n",
              "    this.canvas_div = canvas_div\n",
              "    this._canvas_extra_style(canvas_div)\n",
              "    this.root.append(canvas_div);\n",
              "\n",
              "    var canvas = $('<canvas/>');\n",
              "    canvas.addClass('mpl-canvas');\n",
              "    canvas.attr('style', \"left: 0; top: 0; z-index: 0; outline: 0\")\n",
              "\n",
              "    this.canvas = canvas[0];\n",
              "    this.context = canvas[0].getContext(\"2d\");\n",
              "\n",
              "    var backingStore = this.context.backingStorePixelRatio ||\n",
              "\tthis.context.webkitBackingStorePixelRatio ||\n",
              "\tthis.context.mozBackingStorePixelRatio ||\n",
              "\tthis.context.msBackingStorePixelRatio ||\n",
              "\tthis.context.oBackingStorePixelRatio ||\n",
              "\tthis.context.backingStorePixelRatio || 1;\n",
              "\n",
              "    mpl.ratio = (window.devicePixelRatio || 1) / backingStore;\n",
              "\n",
              "    var rubberband = $('<canvas/>');\n",
              "    rubberband.attr('style', \"position: absolute; left: 0; top: 0; z-index: 1;\")\n",
              "\n",
              "    var pass_mouse_events = true;\n",
              "\n",
              "    canvas_div.resizable({\n",
              "        start: function(event, ui) {\n",
              "            pass_mouse_events = false;\n",
              "        },\n",
              "        resize: function(event, ui) {\n",
              "            fig.request_resize(ui.size.width, ui.size.height);\n",
              "        },\n",
              "        stop: function(event, ui) {\n",
              "            pass_mouse_events = true;\n",
              "            fig.request_resize(ui.size.width, ui.size.height);\n",
              "        },\n",
              "    });\n",
              "\n",
              "    function mouse_event_fn(event) {\n",
              "        if (pass_mouse_events)\n",
              "            return fig.mouse_event(event, event['data']);\n",
              "    }\n",
              "\n",
              "    rubberband.mousedown('button_press', mouse_event_fn);\n",
              "    rubberband.mouseup('button_release', mouse_event_fn);\n",
              "    // Throttle sequential mouse events to 1 every 20ms.\n",
              "    rubberband.mousemove('motion_notify', mouse_event_fn);\n",
              "\n",
              "    rubberband.mouseenter('figure_enter', mouse_event_fn);\n",
              "    rubberband.mouseleave('figure_leave', mouse_event_fn);\n",
              "\n",
              "    canvas_div.on(\"wheel\", function (event) {\n",
              "        event = event.originalEvent;\n",
              "        event['data'] = 'scroll'\n",
              "        if (event.deltaY < 0) {\n",
              "            event.step = 1;\n",
              "        } else {\n",
              "            event.step = -1;\n",
              "        }\n",
              "        mouse_event_fn(event);\n",
              "    });\n",
              "\n",
              "    canvas_div.append(canvas);\n",
              "    canvas_div.append(rubberband);\n",
              "\n",
              "    this.rubberband = rubberband;\n",
              "    this.rubberband_canvas = rubberband[0];\n",
              "    this.rubberband_context = rubberband[0].getContext(\"2d\");\n",
              "    this.rubberband_context.strokeStyle = \"#000000\";\n",
              "\n",
              "    this._resize_canvas = function(width, height) {\n",
              "        // Keep the size of the canvas, canvas container, and rubber band\n",
              "        // canvas in synch.\n",
              "        canvas_div.css('width', width)\n",
              "        canvas_div.css('height', height)\n",
              "\n",
              "        canvas.attr('width', width * mpl.ratio);\n",
              "        canvas.attr('height', height * mpl.ratio);\n",
              "        canvas.attr('style', 'width: ' + width + 'px; height: ' + height + 'px;');\n",
              "\n",
              "        rubberband.attr('width', width);\n",
              "        rubberband.attr('height', height);\n",
              "    }\n",
              "\n",
              "    // Set the figure to an initial 600x600px, this will subsequently be updated\n",
              "    // upon first draw.\n",
              "    this._resize_canvas(600, 600);\n",
              "\n",
              "    // Disable right mouse context menu.\n",
              "    $(this.rubberband_canvas).bind(\"contextmenu\",function(e){\n",
              "        return false;\n",
              "    });\n",
              "\n",
              "    function set_focus () {\n",
              "        canvas.focus();\n",
              "        canvas_div.focus();\n",
              "    }\n",
              "\n",
              "    window.setTimeout(set_focus, 100);\n",
              "}\n",
              "\n",
              "mpl.figure.prototype._init_toolbar = function() {\n",
              "    var fig = this;\n",
              "\n",
              "    var nav_element = $('<div/>');\n",
              "    nav_element.attr('style', 'width: 100%');\n",
              "    this.root.append(nav_element);\n",
              "\n",
              "    // Define a callback function for later on.\n",
              "    function toolbar_event(event) {\n",
              "        return fig.toolbar_button_onclick(event['data']);\n",
              "    }\n",
              "    function toolbar_mouse_event(event) {\n",
              "        return fig.toolbar_button_onmouseover(event['data']);\n",
              "    }\n",
              "\n",
              "    for(var toolbar_ind in mpl.toolbar_items) {\n",
              "        var name = mpl.toolbar_items[toolbar_ind][0];\n",
              "        var tooltip = mpl.toolbar_items[toolbar_ind][1];\n",
              "        var image = mpl.toolbar_items[toolbar_ind][2];\n",
              "        var method_name = mpl.toolbar_items[toolbar_ind][3];\n",
              "\n",
              "        if (!name) {\n",
              "            // put a spacer in here.\n",
              "            continue;\n",
              "        }\n",
              "        var button = $('<button/>');\n",
              "        button.addClass('ui-button ui-widget ui-state-default ui-corner-all ' +\n",
              "                        'ui-button-icon-only');\n",
              "        button.attr('role', 'button');\n",
              "        button.attr('aria-disabled', 'false');\n",
              "        button.click(method_name, toolbar_event);\n",
              "        button.mouseover(tooltip, toolbar_mouse_event);\n",
              "\n",
              "        var icon_img = $('<span/>');\n",
              "        icon_img.addClass('ui-button-icon-primary ui-icon');\n",
              "        icon_img.addClass(image);\n",
              "        icon_img.addClass('ui-corner-all');\n",
              "\n",
              "        var tooltip_span = $('<span/>');\n",
              "        tooltip_span.addClass('ui-button-text');\n",
              "        tooltip_span.html(tooltip);\n",
              "\n",
              "        button.append(icon_img);\n",
              "        button.append(tooltip_span);\n",
              "\n",
              "        nav_element.append(button);\n",
              "    }\n",
              "\n",
              "    var fmt_picker_span = $('<span/>');\n",
              "\n",
              "    var fmt_picker = $('<select/>');\n",
              "    fmt_picker.addClass('mpl-toolbar-option ui-widget ui-widget-content');\n",
              "    fmt_picker_span.append(fmt_picker);\n",
              "    nav_element.append(fmt_picker_span);\n",
              "    this.format_dropdown = fmt_picker[0];\n",
              "\n",
              "    for (var ind in mpl.extensions) {\n",
              "        var fmt = mpl.extensions[ind];\n",
              "        var option = $(\n",
              "            '<option/>', {selected: fmt === mpl.default_extension}).html(fmt);\n",
              "        fmt_picker.append(option);\n",
              "    }\n",
              "\n",
              "    // Add hover states to the ui-buttons\n",
              "    $( \".ui-button\" ).hover(\n",
              "        function() { $(this).addClass(\"ui-state-hover\");},\n",
              "        function() { $(this).removeClass(\"ui-state-hover\");}\n",
              "    );\n",
              "\n",
              "    var status_bar = $('<span class=\"mpl-message\"/>');\n",
              "    nav_element.append(status_bar);\n",
              "    this.message = status_bar[0];\n",
              "}\n",
              "\n",
              "mpl.figure.prototype.request_resize = function(x_pixels, y_pixels) {\n",
              "    // Request matplotlib to resize the figure. Matplotlib will then trigger a resize in the client,\n",
              "    // which will in turn request a refresh of the image.\n",
              "    this.send_message('resize', {'width': x_pixels, 'height': y_pixels});\n",
              "}\n",
              "\n",
              "mpl.figure.prototype.send_message = function(type, properties) {\n",
              "    properties['type'] = type;\n",
              "    properties['figure_id'] = this.id;\n",
              "    this.ws.send(JSON.stringify(properties));\n",
              "}\n",
              "\n",
              "mpl.figure.prototype.send_draw_message = function() {\n",
              "    if (!this.waiting) {\n",
              "        this.waiting = true;\n",
              "        this.ws.send(JSON.stringify({type: \"draw\", figure_id: this.id}));\n",
              "    }\n",
              "}\n",
              "\n",
              "\n",
              "mpl.figure.prototype.handle_save = function(fig, msg) {\n",
              "    var format_dropdown = fig.format_dropdown;\n",
              "    var format = format_dropdown.options[format_dropdown.selectedIndex].value;\n",
              "    fig.ondownload(fig, format);\n",
              "}\n",
              "\n",
              "\n",
              "mpl.figure.prototype.handle_resize = function(fig, msg) {\n",
              "    var size = msg['size'];\n",
              "    if (size[0] != fig.canvas.width || size[1] != fig.canvas.height) {\n",
              "        fig._resize_canvas(size[0], size[1]);\n",
              "        fig.send_message(\"refresh\", {});\n",
              "    };\n",
              "}\n",
              "\n",
              "mpl.figure.prototype.handle_rubberband = function(fig, msg) {\n",
              "    var x0 = msg['x0'] / mpl.ratio;\n",
              "    var y0 = (fig.canvas.height - msg['y0']) / mpl.ratio;\n",
              "    var x1 = msg['x1'] / mpl.ratio;\n",
              "    var y1 = (fig.canvas.height - msg['y1']) / mpl.ratio;\n",
              "    x0 = Math.floor(x0) + 0.5;\n",
              "    y0 = Math.floor(y0) + 0.5;\n",
              "    x1 = Math.floor(x1) + 0.5;\n",
              "    y1 = Math.floor(y1) + 0.5;\n",
              "    var min_x = Math.min(x0, x1);\n",
              "    var min_y = Math.min(y0, y1);\n",
              "    var width = Math.abs(x1 - x0);\n",
              "    var height = Math.abs(y1 - y0);\n",
              "\n",
              "    fig.rubberband_context.clearRect(\n",
              "        0, 0, fig.canvas.width, fig.canvas.height);\n",
              "\n",
              "    fig.rubberband_context.strokeRect(min_x, min_y, width, height);\n",
              "}\n",
              "\n",
              "mpl.figure.prototype.handle_figure_label = function(fig, msg) {\n",
              "    // Updates the figure title.\n",
              "    fig.header.textContent = msg['label'];\n",
              "}\n",
              "\n",
              "mpl.figure.prototype.handle_cursor = function(fig, msg) {\n",
              "    var cursor = msg['cursor'];\n",
              "    switch(cursor)\n",
              "    {\n",
              "    case 0:\n",
              "        cursor = 'pointer';\n",
              "        break;\n",
              "    case 1:\n",
              "        cursor = 'default';\n",
              "        break;\n",
              "    case 2:\n",
              "        cursor = 'crosshair';\n",
              "        break;\n",
              "    case 3:\n",
              "        cursor = 'move';\n",
              "        break;\n",
              "    }\n",
              "    fig.rubberband_canvas.style.cursor = cursor;\n",
              "}\n",
              "\n",
              "mpl.figure.prototype.handle_message = function(fig, msg) {\n",
              "    fig.message.textContent = msg['message'];\n",
              "}\n",
              "\n",
              "mpl.figure.prototype.handle_draw = function(fig, msg) {\n",
              "    // Request the server to send over a new figure.\n",
              "    fig.send_draw_message();\n",
              "}\n",
              "\n",
              "mpl.figure.prototype.handle_image_mode = function(fig, msg) {\n",
              "    fig.image_mode = msg['mode'];\n",
              "}\n",
              "\n",
              "mpl.figure.prototype.updated_canvas_event = function() {\n",
              "    // Called whenever the canvas gets updated.\n",
              "    this.send_message(\"ack\", {});\n",
              "}\n",
              "\n",
              "// A function to construct a web socket function for onmessage handling.\n",
              "// Called in the figure constructor.\n",
              "mpl.figure.prototype._make_on_message_function = function(fig) {\n",
              "    return function socket_on_message(evt) {\n",
              "        if (evt.data instanceof Blob) {\n",
              "            /* FIXME: We get \"Resource interpreted as Image but\n",
              "             * transferred with MIME type text/plain:\" errors on\n",
              "             * Chrome.  But how to set the MIME type?  It doesn't seem\n",
              "             * to be part of the websocket stream */\n",
              "            evt.data.type = \"image/png\";\n",
              "\n",
              "            /* Free the memory for the previous frames */\n",
              "            if (fig.imageObj.src) {\n",
              "                (window.URL || window.webkitURL).revokeObjectURL(\n",
              "                    fig.imageObj.src);\n",
              "            }\n",
              "\n",
              "            fig.imageObj.src = (window.URL || window.webkitURL).createObjectURL(\n",
              "                evt.data);\n",
              "            fig.updated_canvas_event();\n",
              "            fig.waiting = false;\n",
              "            return;\n",
              "        }\n",
              "        else if (typeof evt.data === 'string' && evt.data.slice(0, 21) == \"data:image/png;base64\") {\n",
              "            fig.imageObj.src = evt.data;\n",
              "            fig.updated_canvas_event();\n",
              "            fig.waiting = false;\n",
              "            return;\n",
              "        }\n",
              "\n",
              "        var msg = JSON.parse(evt.data);\n",
              "        var msg_type = msg['type'];\n",
              "\n",
              "        // Call the  \"handle_{type}\" callback, which takes\n",
              "        // the figure and JSON message as its only arguments.\n",
              "        try {\n",
              "            var callback = fig[\"handle_\" + msg_type];\n",
              "        } catch (e) {\n",
              "            console.log(\"No handler for the '\" + msg_type + \"' message type: \", msg);\n",
              "            return;\n",
              "        }\n",
              "\n",
              "        if (callback) {\n",
              "            try {\n",
              "                // console.log(\"Handling '\" + msg_type + \"' message: \", msg);\n",
              "                callback(fig, msg);\n",
              "            } catch (e) {\n",
              "                console.log(\"Exception inside the 'handler_\" + msg_type + \"' callback:\", e, e.stack, msg);\n",
              "            }\n",
              "        }\n",
              "    };\n",
              "}\n",
              "\n",
              "// from http://stackoverflow.com/questions/1114465/getting-mouse-location-in-canvas\n",
              "mpl.findpos = function(e) {\n",
              "    //this section is from http://www.quirksmode.org/js/events_properties.html\n",
              "    var targ;\n",
              "    if (!e)\n",
              "        e = window.event;\n",
              "    if (e.target)\n",
              "        targ = e.target;\n",
              "    else if (e.srcElement)\n",
              "        targ = e.srcElement;\n",
              "    if (targ.nodeType == 3) // defeat Safari bug\n",
              "        targ = targ.parentNode;\n",
              "\n",
              "    // jQuery normalizes the pageX and pageY\n",
              "    // pageX,Y are the mouse positions relative to the document\n",
              "    // offset() returns the position of the element relative to the document\n",
              "    var x = e.pageX - $(targ).offset().left;\n",
              "    var y = e.pageY - $(targ).offset().top;\n",
              "\n",
              "    return {\"x\": x, \"y\": y};\n",
              "};\n",
              "\n",
              "/*\n",
              " * return a copy of an object with only non-object keys\n",
              " * we need this to avoid circular references\n",
              " * http://stackoverflow.com/a/24161582/3208463\n",
              " */\n",
              "function simpleKeys (original) {\n",
              "  return Object.keys(original).reduce(function (obj, key) {\n",
              "    if (typeof original[key] !== 'object')\n",
              "        obj[key] = original[key]\n",
              "    return obj;\n",
              "  }, {});\n",
              "}\n",
              "\n",
              "mpl.figure.prototype.mouse_event = function(event, name) {\n",
              "    var canvas_pos = mpl.findpos(event)\n",
              "\n",
              "    if (name === 'button_press')\n",
              "    {\n",
              "        this.canvas.focus();\n",
              "        this.canvas_div.focus();\n",
              "    }\n",
              "\n",
              "    var x = canvas_pos.x * mpl.ratio;\n",
              "    var y = canvas_pos.y * mpl.ratio;\n",
              "\n",
              "    this.send_message(name, {x: x, y: y, button: event.button,\n",
              "                             step: event.step,\n",
              "                             guiEvent: simpleKeys(event)});\n",
              "\n",
              "    /* This prevents the web browser from automatically changing to\n",
              "     * the text insertion cursor when the button is pressed.  We want\n",
              "     * to control all of the cursor setting manually through the\n",
              "     * 'cursor' event from matplotlib */\n",
              "    event.preventDefault();\n",
              "    return false;\n",
              "}\n",
              "\n",
              "mpl.figure.prototype._key_event_extra = function(event, name) {\n",
              "    // Handle any extra behaviour associated with a key event\n",
              "}\n",
              "\n",
              "mpl.figure.prototype.key_event = function(event, name) {\n",
              "\n",
              "    // Prevent repeat events\n",
              "    if (name == 'key_press')\n",
              "    {\n",
              "        if (event.which === this._key)\n",
              "            return;\n",
              "        else\n",
              "            this._key = event.which;\n",
              "    }\n",
              "    if (name == 'key_release')\n",
              "        this._key = null;\n",
              "\n",
              "    var value = '';\n",
              "    if (event.ctrlKey && event.which != 17)\n",
              "        value += \"ctrl+\";\n",
              "    if (event.altKey && event.which != 18)\n",
              "        value += \"alt+\";\n",
              "    if (event.shiftKey && event.which != 16)\n",
              "        value += \"shift+\";\n",
              "\n",
              "    value += 'k';\n",
              "    value += event.which.toString();\n",
              "\n",
              "    this._key_event_extra(event, name);\n",
              "\n",
              "    this.send_message(name, {key: value,\n",
              "                             guiEvent: simpleKeys(event)});\n",
              "    return false;\n",
              "}\n",
              "\n",
              "mpl.figure.prototype.toolbar_button_onclick = function(name) {\n",
              "    if (name == 'download') {\n",
              "        this.handle_save(this, null);\n",
              "    } else {\n",
              "        this.send_message(\"toolbar_button\", {name: name});\n",
              "    }\n",
              "};\n",
              "\n",
              "mpl.figure.prototype.toolbar_button_onmouseover = function(tooltip) {\n",
              "    this.message.textContent = tooltip;\n",
              "};\n",
              "mpl.toolbar_items = [[\"Home\", \"Reset original view\", \"fa fa-home icon-home\", \"home\"], [\"Back\", \"Back to previous view\", \"fa fa-arrow-left icon-arrow-left\", \"back\"], [\"Forward\", \"Forward to next view\", \"fa fa-arrow-right icon-arrow-right\", \"forward\"], [\"\", \"\", \"\", \"\"], [\"Pan\", \"Pan axes with left mouse, zoom with right\", \"fa fa-arrows icon-move\", \"pan\"], [\"Zoom\", \"Zoom to rectangle\", \"fa fa-square-o icon-check-empty\", \"zoom\"], [\"\", \"\", \"\", \"\"], [\"Download\", \"Download plot\", \"fa fa-floppy-o icon-save\", \"download\"]];\n",
              "\n",
              "mpl.extensions = [\"eps\", \"jpeg\", \"pdf\", \"png\", \"ps\", \"raw\", \"svg\", \"tif\"];\n",
              "\n",
              "mpl.default_extension = \"png\";var comm_websocket_adapter = function(comm) {\n",
              "    // Create a \"websocket\"-like object which calls the given IPython comm\n",
              "    // object with the appropriate methods. Currently this is a non binary\n",
              "    // socket, so there is still some room for performance tuning.\n",
              "    var ws = {};\n",
              "\n",
              "    ws.close = function() {\n",
              "        comm.close()\n",
              "    };\n",
              "    ws.send = function(m) {\n",
              "        //console.log('sending', m);\n",
              "        comm.send(m);\n",
              "    };\n",
              "    // Register the callback with on_msg.\n",
              "    comm.on_msg(function(msg) {\n",
              "        //console.log('receiving', msg['content']['data'], msg);\n",
              "        // Pass the mpl event to the overridden (by mpl) onmessage function.\n",
              "        ws.onmessage(msg['content']['data'])\n",
              "    });\n",
              "    return ws;\n",
              "}\n",
              "\n",
              "mpl.mpl_figure_comm = function(comm, msg) {\n",
              "    // This is the function which gets called when the mpl process\n",
              "    // starts-up an IPython Comm through the \"matplotlib\" channel.\n",
              "\n",
              "    var id = msg.content.data.id;\n",
              "    // Get hold of the div created by the display call when the Comm\n",
              "    // socket was opened in Python.\n",
              "    var element = $(\"#\" + id);\n",
              "    var ws_proxy = comm_websocket_adapter(comm)\n",
              "\n",
              "    function ondownload(figure, format) {\n",
              "        window.open(figure.imageObj.src);\n",
              "    }\n",
              "\n",
              "    var fig = new mpl.figure(id, ws_proxy,\n",
              "                           ondownload,\n",
              "                           element.get(0));\n",
              "\n",
              "    // Call onopen now - mpl needs it, as it is assuming we've passed it a real\n",
              "    // web socket which is closed, not our websocket->open comm proxy.\n",
              "    ws_proxy.onopen();\n",
              "\n",
              "    fig.parent_element = element.get(0);\n",
              "    fig.cell_info = mpl.find_output_cell(\"<div id='\" + id + \"'></div>\");\n",
              "    if (!fig.cell_info) {\n",
              "        console.error(\"Failed to find cell for figure\", id, fig);\n",
              "        return;\n",
              "    }\n",
              "\n",
              "    var output_index = fig.cell_info[2]\n",
              "    var cell = fig.cell_info[0];\n",
              "\n",
              "};\n",
              "\n",
              "mpl.figure.prototype.handle_close = function(fig, msg) {\n",
              "    var width = fig.canvas.width/mpl.ratio\n",
              "    fig.root.unbind('remove')\n",
              "\n",
              "    // Update the output cell to use the data from the current canvas.\n",
              "    fig.push_to_output();\n",
              "    var dataURL = fig.canvas.toDataURL();\n",
              "    // Re-enable the keyboard manager in IPython - without this line, in FF,\n",
              "    // the notebook keyboard shortcuts fail.\n",
              "    IPython.keyboard_manager.enable()\n",
              "    $(fig.parent_element).html('<img src=\"' + dataURL + '\" width=\"' + width + '\">');\n",
              "    fig.close_ws(fig, msg);\n",
              "}\n",
              "\n",
              "mpl.figure.prototype.close_ws = function(fig, msg){\n",
              "    fig.send_message('closing', msg);\n",
              "    // fig.ws.close()\n",
              "}\n",
              "\n",
              "mpl.figure.prototype.push_to_output = function(remove_interactive) {\n",
              "    // Turn the data on the canvas into data in the output cell.\n",
              "    var width = this.canvas.width/mpl.ratio\n",
              "    var dataURL = this.canvas.toDataURL();\n",
              "    this.cell_info[1]['text/html'] = '<img src=\"' + dataURL + '\" width=\"' + width + '\">';\n",
              "}\n",
              "\n",
              "mpl.figure.prototype.updated_canvas_event = function() {\n",
              "    // Tell IPython that the notebook contents must change.\n",
              "    IPython.notebook.set_dirty(true);\n",
              "    this.send_message(\"ack\", {});\n",
              "    var fig = this;\n",
              "    // Wait a second, then push the new image to the DOM so\n",
              "    // that it is saved nicely (might be nice to debounce this).\n",
              "    setTimeout(function () { fig.push_to_output() }, 1000);\n",
              "}\n",
              "\n",
              "mpl.figure.prototype._init_toolbar = function() {\n",
              "    var fig = this;\n",
              "\n",
              "    var nav_element = $('<div/>');\n",
              "    nav_element.attr('style', 'width: 100%');\n",
              "    this.root.append(nav_element);\n",
              "\n",
              "    // Define a callback function for later on.\n",
              "    function toolbar_event(event) {\n",
              "        return fig.toolbar_button_onclick(event['data']);\n",
              "    }\n",
              "    function toolbar_mouse_event(event) {\n",
              "        return fig.toolbar_button_onmouseover(event['data']);\n",
              "    }\n",
              "\n",
              "    for(var toolbar_ind in mpl.toolbar_items){\n",
              "        var name = mpl.toolbar_items[toolbar_ind][0];\n",
              "        var tooltip = mpl.toolbar_items[toolbar_ind][1];\n",
              "        var image = mpl.toolbar_items[toolbar_ind][2];\n",
              "        var method_name = mpl.toolbar_items[toolbar_ind][3];\n",
              "\n",
              "        if (!name) { continue; };\n",
              "\n",
              "        var button = $('<button class=\"btn btn-default\" href=\"#\" title=\"' + name + '\"><i class=\"fa ' + image + ' fa-lg\"></i></button>');\n",
              "        button.click(method_name, toolbar_event);\n",
              "        button.mouseover(tooltip, toolbar_mouse_event);\n",
              "        nav_element.append(button);\n",
              "    }\n",
              "\n",
              "    // Add the status bar.\n",
              "    var status_bar = $('<span class=\"mpl-message\" style=\"text-align:right; float: right;\"/>');\n",
              "    nav_element.append(status_bar);\n",
              "    this.message = status_bar[0];\n",
              "\n",
              "    // Add the close button to the window.\n",
              "    var buttongrp = $('<div class=\"btn-group inline pull-right\"></div>');\n",
              "    var button = $('<button class=\"btn btn-mini btn-primary\" href=\"#\" title=\"Stop Interaction\"><i class=\"fa fa-power-off icon-remove icon-large\"></i></button>');\n",
              "    button.click(function (evt) { fig.handle_close(fig, {}); } );\n",
              "    button.mouseover('Stop Interaction', toolbar_mouse_event);\n",
              "    buttongrp.append(button);\n",
              "    var titlebar = this.root.find($('.ui-dialog-titlebar'));\n",
              "    titlebar.prepend(buttongrp);\n",
              "}\n",
              "\n",
              "mpl.figure.prototype._root_extra_style = function(el){\n",
              "    var fig = this\n",
              "    el.on(\"remove\", function(){\n",
              "\tfig.close_ws(fig, {});\n",
              "    });\n",
              "}\n",
              "\n",
              "mpl.figure.prototype._canvas_extra_style = function(el){\n",
              "    // this is important to make the div 'focusable\n",
              "    el.attr('tabindex', 0)\n",
              "    // reach out to IPython and tell the keyboard manager to turn it's self\n",
              "    // off when our div gets focus\n",
              "\n",
              "    // location in version 3\n",
              "    if (IPython.notebook.keyboard_manager) {\n",
              "        IPython.notebook.keyboard_manager.register_events(el);\n",
              "    }\n",
              "    else {\n",
              "        // location in version 2\n",
              "        IPython.keyboard_manager.register_events(el);\n",
              "    }\n",
              "\n",
              "}\n",
              "\n",
              "mpl.figure.prototype._key_event_extra = function(event, name) {\n",
              "    var manager = IPython.notebook.keyboard_manager;\n",
              "    if (!manager)\n",
              "        manager = IPython.keyboard_manager;\n",
              "\n",
              "    // Check for shift+enter\n",
              "    if (event.shiftKey && event.which == 13) {\n",
              "        this.canvas_div.blur();\n",
              "        event.shiftKey = false;\n",
              "        // Send a \"J\" for go to next cell\n",
              "        event.which = 74;\n",
              "        event.keyCode = 74;\n",
              "        manager.command_mode();\n",
              "        manager.handle_keydown(event);\n",
              "    }\n",
              "}\n",
              "\n",
              "mpl.figure.prototype.handle_save = function(fig, msg) {\n",
              "    fig.ondownload(fig, null);\n",
              "}\n",
              "\n",
              "\n",
              "mpl.find_output_cell = function(html_output) {\n",
              "    // Return the cell and output element which can be found *uniquely* in the notebook.\n",
              "    // Note - this is a bit hacky, but it is done because the \"notebook_saving.Notebook\"\n",
              "    // IPython event is triggered only after the cells have been serialised, which for\n",
              "    // our purposes (turning an active figure into a static one), is too late.\n",
              "    var cells = IPython.notebook.get_cells();\n",
              "    var ncells = cells.length;\n",
              "    for (var i=0; i<ncells; i++) {\n",
              "        var cell = cells[i];\n",
              "        if (cell.cell_type === 'code'){\n",
              "            for (var j=0; j<cell.output_area.outputs.length; j++) {\n",
              "                var data = cell.output_area.outputs[j];\n",
              "                if (data.data) {\n",
              "                    // IPython >= 3 moved mimebundle to data attribute of output\n",
              "                    data = data.data;\n",
              "                }\n",
              "                if (data['text/html'] == html_output) {\n",
              "                    return [cell, data, j];\n",
              "                }\n",
              "            }\n",
              "        }\n",
              "    }\n",
              "}\n",
              "\n",
              "// Register the function which deals with the matplotlib target/channel.\n",
              "// The kernel may be null if the page has been refreshed.\n",
              "if (IPython.notebook.kernel != null) {\n",
              "    IPython.notebook.kernel.comm_manager.register_target('matplotlib', mpl.mpl_figure_comm);\n",
              "}\n"
            ],
            "text/plain": [
              "<IPython.core.display.Javascript object>"
            ]
          },
          "metadata": {}
        },
        {
          "output_type": "display_data",
          "data": {
            "text/html": [
              "<img src=\"data:image/png;base64,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\" width=\"640\">"
            ],
            "text/plain": [
              "<IPython.core.display.HTML object>"
            ]
          },
          "metadata": {}
        }
      ],
      "execution_count": 33,
      "metadata": {}
    },
    {
      "cell_type": "markdown",
      "source": [
        "### Step 09: Calculate the confusion matrix and find the precision, recall, and F1 score of each classification algorithm. Explain how the accuracy of the predication can be improved?\n",
        "Finding the accuracy of the model does not always represent the quality of the\n",
        "model for a given dataset. Number of false positive and false negative identification also\n",
        "plays an important role when we decide about any particular classification model. The\n",
        "way we can calculate is called confusion matrix. You can use confusionMatrix() method\n",
        "to calculate the confusion matrix. From the confusion matrix show the precision, recall\n",
        "and f1 score of each classification model. Explain how you can improve the accuracy of\n",
        "the predication."
      ],
      "metadata": {}
    },
    {
      "cell_type": "markdown",
      "source": [
        "### DecisionTreeClassifier"
      ],
      "metadata": {}
    },
    {
      "cell_type": "code",
      "source": [
        "from pyspark.mllib.evaluation import MulticlassMetrics\n",
        "predictionRDD_dt = dt_predictions.select(['RainTomorrow_index', 'prediction']).rdd.map(lambda line: (line[1], line[0]))\n",
        "dt_metrics = MulticlassMetrics(predictionRDD_dt)\n",
        "\n",
        "# Confusion Matrix\n",
        "print(dt_metrics.confusionMatrix())"
      ],
      "outputs": [
        {
          "output_type": "stream",
          "name": "stdout",
          "text": [
            "DenseMatrix([[31955.,  1022.],\n",
            "             [ 6388.,  3088.]])\n"
          ]
        }
      ],
      "execution_count": 35,
      "metadata": {}
    },
    {
      "cell_type": "code",
      "source": [
        "# Find the precision, recall, and F1 score and show the result\n",
        "precision = dt_metrics.precision()\n",
        "recall = dt_metrics.recall()\n",
        "f1Score = dt_metrics.fMeasure()\n",
        "print(\"Summary Stats\")\n",
        "print(\"Precision = %s\" % precision)\n",
        "print(\"Recall = %s\" % recall)\n",
        "print(\"F1 Score = %s\" % f1Score)"
      ],
      "outputs": [
        {
          "output_type": "stream",
          "name": "stdout",
          "text": [
            "Summary Stats\n",
            "Precision = 0.8254540315172073\n",
            "Recall = 0.8254540315172073\n",
            "F1 Score = 0.8254540315172073\n"
          ]
        }
      ],
      "execution_count": 36,
      "metadata": {}
    },
    {
      "cell_type": "markdown",
      "source": [
        "### RandomForestClassifier"
      ],
      "metadata": {}
    },
    {
      "cell_type": "code",
      "source": [
        "predictionRDD_rf = rf_predictions.select(['RainTomorrow_index', 'prediction']).rdd.map(lambda line: (line[1], line[0]))\n",
        "rf_metrics = MulticlassMetrics(predictionRDD_rf)\n",
        "\n",
        "# Confusion Matrix\n",
        "print(rf_metrics.confusionMatrix())"
      ],
      "outputs": [
        {
          "output_type": "stream",
          "name": "stdout",
          "text": [
            "DenseMatrix([[32313.,   664.],\n",
            "             [ 6846.,  2630.]])\n"
          ]
        }
      ],
      "execution_count": 37,
      "metadata": {}
    },
    {
      "cell_type": "code",
      "source": [
        "# Find the precision, recall, and F1 score and show the result\n",
        "precision = rf_metrics.precision()\n",
        "recall = rf_metrics.recall()\n",
        "f1Score = rf_metrics.fMeasure()\n",
        "print(\"Summary Stats\")\n",
        "print(\"Precision = %s\" % precision)\n",
        "print(\"Recall = %s\" % recall)\n",
        "print(\"F1 Score = %s\" % f1Score)"
      ],
      "outputs": [
        {
          "output_type": "stream",
          "name": "stdout",
          "text": [
            "Summary Stats\n",
            "Precision = 0.8230984853838362\n",
            "Recall = 0.8230984853838362\n",
            "F1 Score = 0.8230984853838362\n"
          ]
        }
      ],
      "execution_count": 38,
      "metadata": {}
    },
    {
      "cell_type": "markdown",
      "source": [
        "### LogisticRegression"
      ],
      "metadata": {}
    },
    {
      "cell_type": "code",
      "source": [
        "predictionRDD_lr = lr_predictions.select(['RainTomorrow_index', 'prediction']).rdd.map(lambda line: (line[1], line[0]))\n",
        "lr_metrics = MulticlassMetrics(predictionRDD_lr)\n",
        "\n",
        "# Confusion Matrix\n",
        "print(lr_metrics.confusionMatrix())"
      ],
      "outputs": [
        {
          "output_type": "stream",
          "name": "stdout",
          "text": [
            "DenseMatrix([[30782.,  2195.],\n",
            "             [ 5575.,  3901.]])\n"
          ]
        }
      ],
      "execution_count": 39,
      "metadata": {}
    },
    {
      "cell_type": "code",
      "source": [
        "# Find the precision, recall, and F1 score and show the result\n",
        "precision = lr_metrics.precision()\n",
        "recall = lr_metrics.recall()\n",
        "f1Score = lr_metrics.fMeasure()\n",
        "print(\"Summary Stats\")\n",
        "print(\"Precision = %s\" % precision)\n",
        "print(\"Recall = %s\" % recall)\n",
        "print(\"F1 Score = %s\" % f1Score)"
      ],
      "outputs": [
        {
          "output_type": "stream",
          "name": "stdout",
          "text": [
            "Summary Stats\n",
            "Precision = 0.8169740654370716\n",
            "Recall = 0.8169740654370716\n",
            "F1 Score = 0.8169740654370716\n"
          ]
        }
      ],
      "execution_count": 40,
      "metadata": {}
    },
    {
      "cell_type": "markdown",
      "source": [
        "### GBTClassifier"
      ],
      "metadata": {}
    },
    {
      "cell_type": "code",
      "source": [
        "# Get metrics object \n",
        "predictionRDD_gbt = gbt_predictions.select(['RainTomorrow_index', 'prediction']).rdd.map(lambda line: (line[1], line[0]))\n",
        "gbt_metrics = MulticlassMetrics(predictionRDD_gbt)\n",
        "\n",
        "# Confusion Matrix\n",
        "print(gbt_metrics.confusionMatrix())"
      ],
      "outputs": [
        {
          "output_type": "stream",
          "name": "stdout",
          "text": [
            "DenseMatrix([[31445.,  1532.],\n",
            "             [ 5223.,  4253.]])\n"
          ]
        }
      ],
      "execution_count": 41,
      "metadata": {}
    },
    {
      "cell_type": "code",
      "source": [
        "# Find the precision, recall, and F1 score and show the result\n",
        "precision = gbt_metrics.precision()\n",
        "recall = gbt_metrics.recall()\n",
        "f1Score = gbt_metrics.fMeasure()\n",
        "print(\"Summary Stats\")\n",
        "print(\"Precision = %s\" % precision)\n",
        "print(\"Recall = %s\" % recall)\n",
        "print(\"F1 Score = %s\" % f1Score)"
      ],
      "outputs": [
        {
          "output_type": "stream",
          "name": "stdout",
          "text": [
            "Summary Stats\n",
            "Precision = 0.8408828586907875\n",
            "Recall = 0.8408828586907875\n",
            "F1 Score = 0.8408828586907875\n"
          ]
        }
      ],
      "execution_count": 42,
      "metadata": {}
    },
    {
      "cell_type": "markdown",
      "source": [
        "### How can we improve the accuracy?"
      ],
      "metadata": {}
    },
    {
      "cell_type": "markdown",
      "source": [
        "One way to improve the accuracy that we already done in previous steps is by using different algorithms and choose the one with better performance. \n",
        "Another way to improve the accuracy is by preprocessing the data, what we already did is impute the missing value, but also we can detect and remove the outlier in dataset, which will result in a more accuracy model."
      ],
      "metadata": {}
    }
  ],
  "metadata": {
    "kernelspec": {
      "display_name": "Python 3",
      "language": "python",
      "name": "python3"
    },
    "language_info": {
      "codemirror_mode": {
        "name": "ipython",
        "version": 3
      },
      "file_extension": ".py",
      "mimetype": "text/x-python",
      "name": "python",
      "nbconvert_exporter": "python",
      "pygments_lexer": "ipython3",
      "version": "3.7.3"
    },
    "nteract": {
      "version": "0.15.0"
    }
  },
  "nbformat": 4,
  "nbformat_minor": 2
}